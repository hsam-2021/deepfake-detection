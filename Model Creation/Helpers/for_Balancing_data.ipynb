{
 "cells": [
  {
   "cell_type": "code",
   "execution_count": 10,
   "metadata": {},
   "outputs": [],
   "source": [
    "import json\n",
    "import glob\n",
    "import numpy as np\n",
    "import cv2\n",
    "import copy\n",
    "import pandas as pd"
   ]
  },
  {
   "cell_type": "code",
   "execution_count": 71,
   "metadata": {},
   "outputs": [],
   "source": [
    "\n",
    "path_to_json='F:/College/BE/Final year project/Dataset/Kaggle dataset/Gobal_metadata.json'\n",
    "path_to_json = 'F:/College/BE/Final year project/Dataset/Kaggle dataset/deepfake-detection-challenge/train_sample_videos/metadata.json'\n",
    "\n",
    "\n",
    "\n",
    "#path_to_json1 = '/content/dfdc_train_part_0/metadata.json'\n",
    "with open(path_to_json) as f:\n",
    "  labels = json.load(f)"
   ]
  },
  {
   "cell_type": "code",
   "execution_count": 72,
   "metadata": {},
   "outputs": [
    {
     "name": "stdout",
     "output_type": "stream",
     "text": [
      "77\n",
      "abarnvbtwb.mp4 OR aelfnikyqj.mp4 OR afoovlsmtx.mp4 OR agrmhtjdlk.mp4 OR ahqqqilsxt.mp4 OR ajqslcypsw.mp4 OR anpuvshzoo.mp4 OR asaxgevnnp.mp4 OR atkdltyyen.mp4 OR atvmxvwyns.mp4 OR avmjormvsx.mp4 OR axntxmycwd.mp4 OR aybgughjxh.mp4 OR aybumesmpk.mp4 OR aytzyidmgs.mp4 OR bddjdhzfze.mp4 OR bdnaqemxmr.mp4 OR beboztfcme.mp4 OR bejhvclboh.mp4 OR beyebyhrph.mp4\n",
      "bffwsjxghk.mp4 OR bgvhtpzknn.mp4 OR bgwmmujlmc.mp4 OR bilnggbxgu.mp4 OR bmjzrlszhi.mp4 OR bpapbctoao.mp4 OR brwrlczjvi.mp4 OR bulkxhhknf.mp4 OR bwhlgysghg.mp4 OR bwipwzzxxu.mp4 OR bxzakyopjf.mp4 OR bzythlfnhq.mp4 OR caifxvsozs.mp4 OR ccfoszqabv.mp4 OR cfxkpiweqt.mp4 OR chtapglbcj.mp4 OR chviwxsfhg.mp4 OR ciyoudyhly.mp4 OR cizlkenljw.mp4 OR ckjaibzfxa.mp4\n",
      "ckkuyewywx.mp4 OR clrycekyst.mp4 OR cmbzllswnl.mp4 OR cobjrlugvp.mp4 OR cpjxareypw.mp4 OR cppdvdejkc.mp4 OR cprhtltsjp.mp4 OR crezycjqyk.mp4 OR cyxlcuyznd.mp4 OR dakiztgtnw.mp4 OR dbnygxtwek.mp4 OR dbtbbhakdv.mp4 OR ddepeddixj.mp4 OR dhcndnuwta.mp4 OR dhxctgyoqj.mp4 OR djxdyjopjd.mp4 OR dkuayagnmc.mp4 OR dkzvdrzcnr.mp4 OR dlpoieqvfb.mp4 OR drcyabprvt.mp4\n"
     ]
    },
    {
     "ename": "TypeError",
     "evalue": "join() takes exactly one argument (0 given)",
     "output_type": "error",
     "traceback": [
      "\u001b[1;31m---------------------------------------------------------------------------\u001b[0m",
      "\u001b[1;31mTypeError\u001b[0m                                 Traceback (most recent call last)",
      "\u001b[1;32m<ipython-input-72-5e275e2539d3>\u001b[0m in \u001b[0;36m<module>\u001b[1;34m()\u001b[0m\n\u001b[0;32m     11\u001b[0m     \u001b[0mprint\u001b[0m\u001b[1;33m(\u001b[0m\u001b[1;34m\" OR \"\u001b[0m\u001b[1;33m.\u001b[0m\u001b[0mjoin\u001b[0m\u001b[1;33m(\u001b[0m\u001b[0mlist_of_real\u001b[0m\u001b[1;33m[\u001b[0m\u001b[0mj\u001b[0m\u001b[1;33m:\u001b[0m\u001b[0mi\u001b[0m\u001b[1;33m]\u001b[0m\u001b[1;33m)\u001b[0m\u001b[1;33m)\u001b[0m\u001b[1;33m\u001b[0m\u001b[0m\n\u001b[0;32m     12\u001b[0m     \u001b[0mj\u001b[0m \u001b[1;33m=\u001b[0m \u001b[0mi\u001b[0m\u001b[1;33m\u001b[0m\u001b[0m\n\u001b[1;32m---> 13\u001b[1;33m \u001b[1;34m\" OR \"\u001b[0m\u001b[1;33m.\u001b[0m\u001b[0mjoin\u001b[0m\u001b[1;33m(\u001b[0m\u001b[1;33m)\u001b[0m \u001b[1;31m#search the output by outpu string\u001b[0m\u001b[1;33m\u001b[0m\u001b[0m\n\u001b[0m",
      "\u001b[1;31mTypeError\u001b[0m: join() takes exactly one argument (0 given)"
     ]
    }
   ],
   "source": [
    "df = pd.DataFrame(labels).T\n",
    "df.sort_values('label')\n",
    "df.loc[df['label'] == 'REAL']\n",
    "read_df = pd.DataFrame(df.loc[df['label'] == 'REAL'])\n",
    "read_df.index.values\n",
    "\n",
    "list_of_real = list(read_df.index.values)\n",
    "j = 0\n",
    "print(len(list_of_real))\n",
    "for i in range(20,len(list_of_real),20):\n",
    "    print(\" OR \".join(list_of_real[j:i]))\n",
    "    j = i\n",
    "\" OR \".join() #search the output by outpu string"
   ]
  },
  {
   "cell_type": "code",
   "execution_count": 73,
   "metadata": {},
   "outputs": [
    {
     "name": "stdout",
     "output_type": "stream",
     "text": [
      "323\n",
      "aagfhgtpmv.mp4 OR aapnvogymq.mp4 OR abofeumbvv.mp4 OR abqwwspghj.mp4 OR acifjvzvpm.mp4 OR acqfdwsrhi.mp4 OR acxnxvbsxk.mp4 OR acxwigylke.mp4 OR aczrgyricp.mp4 OR adhsbajydo.mp4 OR adohikbdaz.mp4 OR adylbeequz.mp4 OR aelzhcnwgf.mp4 OR aettqgevhz.mp4 OR aevrfsexku.mp4 OR agdkmztvby.mp4 OR agqphdxmwt.mp4 OR ahbweevwpv.mp4 OR ahdbuwqxit.mp4 OR ahfazfbntc.mp4\n",
      "aipfdnwpoo.mp4 OR ajwpjhrbcv.mp4 OR aklqzsddfl.mp4 OR aknbdpmgua.mp4 OR aknmpoonls.mp4 OR akvmwkdyuv.mp4 OR akxoopqjqz.mp4 OR akzbnazxtz.mp4 OR aladcziidp.mp4 OR alaijyygdv.mp4 OR alninxcyhg.mp4 OR altziddtxi.mp4 OR alvgwypubw.mp4 OR amaivqofda.mp4 OR amowujxmzc.mp4 OR andaxzscny.mp4 OR aneclqfpbt.mp4 OR aorjvbyxhw.mp4 OR apatcsqejh.mp4 OR apgjqzkoma.mp4\n",
      "apogckdfrz.mp4 OR aqpnvjhuzw.mp4 OR arkroixhey.mp4 OR arlmiizoob.mp4 OR arrhsnjqku.mp4 OR asdpeebotb.mp4 OR aslsvlvpth.mp4 OR asmpfjfzif.mp4 OR asvcrfdpnq.mp4 OR atxvxouljq.mp4 OR atyntldecu.mp4 OR atzdznmder.mp4 OR aufmsmnoye.mp4 OR augtsuxpzc.mp4 OR avfitoutyn.mp4 OR avgiuextiz.mp4 OR avibnnhwhp.mp4 OR avnqydkqjj.mp4 OR avssvvsdhz.mp4 OR avtycwsgyb.mp4\n",
      "avvdgsennp.mp4 OR avywawptfc.mp4 OR awhmfnnjih.mp4 OR awnwkrqibf.mp4 OR awukslzjra.mp4 OR axczxisdtb.mp4 OR axoygtekut.mp4 OR axwgcsyphv.mp4 OR axwovszumc.mp4 OR ayqvfdhslr.mp4 OR azpuxunqyo.mp4 OR azsmewqghg.mp4 OR bahdpoesir.mp4 OR bbhpvrmbse.mp4 OR bbhtdfuqxq.mp4 OR bbvgxeczei.mp4 OR bchnbulevv.mp4 OR bctvsmddgq.mp4 OR bdbhekrrwo.mp4 OR bdgipnyobr.mp4\n",
      "bdxuhamuqx.mp4 OR benmsfzfaz.mp4 OR bgaogsjehq.mp4 OR bggsurpgpr.mp4 OR bghphrsfxf.mp4 OR bgmlwsoamc.mp4 OR bguwlyazau.mp4 OR bhaaboftbc.mp4 OR bhbdugnurr.mp4 OR bhpwpydzpo.mp4 OR bhsluedavd.mp4 OR bjjbwsqjir.mp4 OR bjkmjilrxp.mp4 OR bjsmaqefoi.mp4 OR bkmdzhfzfh.mp4 OR bkvetcojbt.mp4 OR bkwxhglwct.mp4 OR blpchvmhxx.mp4 OR blzydqdfem.mp4 OR bmbbkwmxqj.mp4\n",
      "bmehkyanbj.mp4 OR bmhvktyiwp.mp4 OR bmioepcpsx.mp4 OR bmjmjmbglm.mp4 OR bnbuonyoje.mp4 OR bndybcqhfr.mp4 OR bnjcdrfuov.mp4 OR bntlodcfeg.mp4 OR bofqajtwve.mp4 OR boovltmuwi.mp4 OR bopqhhalml.mp4 OR bourlmzsio.mp4 OR bpwzipqtxf.mp4 OR bpxckdzddv.mp4 OR bqdjzqhcft.mp4 OR bqeiblbxtl.mp4 OR bqhtpqmmqp.mp4 OR bqkdbcqjvb.mp4 OR bqnymlsayl.mp4 OR bqqpbzjgup.mp4\n",
      "bqtuuwzdtr.mp4 OR brhalypwoo.mp4 OR brvqtabyxj.mp4 OR bseamdrpbj.mp4 OR bsfmwclnqy.mp4 OR bsqgziaylx.mp4 OR btiysiskpf.mp4 OR btjlfpzbdu.mp4 OR btjwbtsgln.mp4 OR btmsngnqhv.mp4 OR btohlidmru.mp4 OR btugrnoton.mp4 OR btunxncpjh.mp4 OR btxlttbpkj.mp4 OR bvgwelbeof.mp4 OR bvzjkezkms.mp4 OR bweezhfpzp.mp4 OR bwuwstvsbw.mp4 OR bydaidkpdp.mp4 OR byfenovjnf.mp4\n",
      "byijojkdba.mp4 OR byofowlkki.mp4 OR byqzyxifza.mp4 OR byunigvnay.mp4 OR byyqectxqa.mp4 OR bzmdrafeex.mp4 OR caqbrkogkb.mp4 OR cbbibzcoih.mp4 OR cbltdtxglo.mp4 OR ccmonzqfrz.mp4 OR cdaxixbosp.mp4 OR cdbsbdymzd.mp4 OR cdphtzqrvp.mp4 OR cdyakrxkia.mp4 OR cepxysienc.mp4 OR cettndmvzl.mp4 OR ceymbecxnj.mp4 OR cferslmfwh.mp4 OR cffffbcywc.mp4 OR cfyduhpbps.mp4\n",
      "cglxirfaey.mp4 OR cgvrgibpfo.mp4 OR chzieimrwu.mp4 OR ckbdwedgmc.mp4 OR cknyxaqouy.mp4 OR cksanfsjhc.mp4 OR clihsshdkq.mp4 OR cmxcfkrjiv.mp4 OR cnilkgvfei.mp4 OR coadfnerlk.mp4 OR covdcysmbi.mp4 OR cqfugiqupm.mp4 OR cqhngvpgyi.mp4 OR cqrskwiqng.mp4 OR crktehraph.mp4 OR crzfebnfgb.mp4 OR cthdnahrkh.mp4 OR ctpqeykqdp.mp4 OR cttqtsjvgn.mp4 OR ctzmavwror.mp4\n",
      "curpwogllm.mp4 OR cuzrgrbvil.mp4 OR cvaksbpssm.mp4 OR cwbacdwrzo.mp4 OR cwqlvzefpg.mp4 OR cwrtyzndpx.mp4 OR cwsbspfzck.mp4 OR cwwandrkus.mp4 OR cxfujlvsuw.mp4 OR cxrfacemmq.mp4 OR cxttmymlbn.mp4 OR cyboodqqyr.mp4 OR cycacemkmt.mp4 OR cyclgfjdrv.mp4 OR czfunozvwp.mp4 OR czkdanyadc.mp4 OR czmqpxrqoh.mp4 OR dafhtipaml.mp4 OR dakqwktlbi.mp4 OR dbhoxkblzx.mp4\n",
      "dbhrpizyeq.mp4 OR dboxtiehng.mp4 OR dbzcqmxzaj.mp4 OR dbzpcjntve.mp4 OR dcamvmuors.mp4 OR dcuiiorugd.mp4 OR ddhfabwpuz.mp4 OR ddjggcasdw.mp4 OR ddpvuimigj.mp4 OR ddqccgmtka.mp4 OR degpbqvcay.mp4 OR deywhkarol.mp4 OR deyyistcrd.mp4 OR dfbpceeaox.mp4 OR dgmevclvzy.mp4 OR dgxrqjdomn.mp4 OR dgzklxjmix.mp4 OR dhcselezer.mp4 OR dhevettufk.mp4 OR dhjmzhrcav.mp4\n",
      "dhkwmjxwrn.mp4 OR dhoqofwoxa.mp4 OR diomeixhrg.mp4 OR diopzaywor.mp4 OR diqraixiov.mp4 OR diuzrpqjli.mp4 OR djvtbgwdcc.mp4 OR djvutyvaio.mp4 OR dkdwxmtpuo.mp4 OR dkhlttuvmx.mp4 OR dkrvorliqc.mp4 OR dkwjwbwgey.mp4 OR dlrsbscitn.mp4 OR dnexlwbcxq.mp4 OR dnhvalzvrt.mp4 OR dntkzzzcdh.mp4 OR dnyvfblxpm.mp4 OR doanjploai.mp4 OR dofusvhnib.mp4 OR dozyddhild.mp4\n",
      "dptbnjnkdg.mp4 OR dptrzdvwpg.mp4 OR dqnyszdong.mp4 OR dqppxmoqdl.mp4 OR dqqtjcryjv.mp4 OR dqswpjoepo.mp4 OR dqzreruvje.mp4 OR drgjzlxzxj.mp4 OR drsakwyvqv.mp4 OR drtbksnpol.mp4 OR dsdoseflas.mp4 OR dsgpbgsrdm.mp4 OR dsndhujjjb.mp4 OR dtbpmdqvao.mp4 OR dtocdfbwca.mp4 OR dubiroskqn.mp4 OR dulanfulol.mp4 OR duvyaxbzvp.mp4 OR duzuusuajr.mp4 OR dvakowbgbt.mp4\n",
      "dvumqqhoac.mp4 OR dwediigjit.mp4 OR dxuliowugt.mp4 OR dxuplhwvig.mp4 OR dzieklokdr.mp4 OR dzqwgqewhu.mp4 OR dzvyfiarrq.mp4 OR dzwkmcwkwl.mp4 OR eahlqmfvtj.mp4 OR eajlrktemq.mp4 OR ebchwmwayp.mp4 OR ebebgmtlcu.mp4 OR ebeknhudxq.mp4 OR ebkzwjgjhq.mp4 OR ebywfrmhtd.mp4 OR ecnihjlfyt.mp4 OR ecuvtoltue.mp4 OR ecwaxgutkc.mp4 OR eczrseixwq.mp4 OR eebrkicpry.mp4\n",
      "eebserckhh.mp4 OR eejswgycjc.mp4 OR eekozbeafq.mp4 OR eepezmygaq.mp4 OR eeyhxisdfh.mp4 OR efdyrflcpg.mp4 OR egbbcxcuqy.mp4 OR ehbnclaukr.mp4 OR ehdkmxgtxh.mp4 OR ehevsxtecd.mp4 OR ehfiekigla.mp4 OR ehieahnhte.mp4 OR eiriyukqqy.mp4 OR eivxffliio.mp4 OR eiwopxzjfn.mp4 OR eixwxvxbbn.mp4 OR ejkqesyvam.mp4 OR ekhacizpah.mp4 OR ekkdjkirzq.mp4 OR elginszwtk.mp4\n",
      "elvvackpjh.mp4 OR emaalmsonj.mp4 OR emfbhytfhc.mp4 OR emgjphonqb.mp4 OR ensyyivobf.mp4 OR eoewqcpbgt.mp4 OR eprybmbpba.mp4 OR epymyyiblu.mp4 OR eqjscdagiv.mp4 OR eqvuznuwsa.mp4 OR erqgqacbqe.mp4 OR errocgcham.mp4 OR esckbnkkvb.mp4 OR esgftaficx.mp4 OR esnntzzajv.mp4 OR esxrvsgpvb.mp4 OR esyhwdfnxs.mp4 OR esyrimvzsa.mp4 OR etdcqxabww.mp4 OR etejaapnxh.mp4\n"
     ]
    },
    {
     "ename": "TypeError",
     "evalue": "join() takes exactly one argument (0 given)",
     "output_type": "error",
     "traceback": [
      "\u001b[1;31m---------------------------------------------------------------------------\u001b[0m",
      "\u001b[1;31mTypeError\u001b[0m                                 Traceback (most recent call last)",
      "\u001b[1;32m<ipython-input-73-f43c42b48e5e>\u001b[0m in \u001b[0;36m<module>\u001b[1;34m()\u001b[0m\n\u001b[0;32m      9\u001b[0m     \u001b[0mprint\u001b[0m\u001b[1;33m(\u001b[0m\u001b[1;34m\" OR \"\u001b[0m\u001b[1;33m.\u001b[0m\u001b[0mjoin\u001b[0m\u001b[1;33m(\u001b[0m\u001b[0mlist_of_fake\u001b[0m\u001b[1;33m[\u001b[0m\u001b[0mj\u001b[0m\u001b[1;33m:\u001b[0m\u001b[0mi\u001b[0m\u001b[1;33m]\u001b[0m\u001b[1;33m)\u001b[0m\u001b[1;33m)\u001b[0m\u001b[1;33m\u001b[0m\u001b[0m\n\u001b[0;32m     10\u001b[0m     \u001b[0mj\u001b[0m \u001b[1;33m=\u001b[0m \u001b[0mi\u001b[0m\u001b[1;33m\u001b[0m\u001b[0m\n\u001b[1;32m---> 11\u001b[1;33m \u001b[1;34m\" OR \"\u001b[0m\u001b[1;33m.\u001b[0m\u001b[0mjoin\u001b[0m\u001b[1;33m(\u001b[0m\u001b[1;33m)\u001b[0m \u001b[1;31m#search the output by outpu string\u001b[0m\u001b[1;33m\u001b[0m\u001b[0m\n\u001b[0m",
      "\u001b[1;31mTypeError\u001b[0m: join() takes exactly one argument (0 given)"
     ]
    }
   ],
   "source": [
    "df = pd.DataFrame(labels).T\n",
    "read_df = pd.DataFrame(df.loc[df['label'] == 'FAKE'])\n",
    "read_df.index.values\n",
    "\n",
    "list_of_fake = list(read_df.index.values)\n",
    "j = 0\n",
    "print(len(list_of_fake))\n",
    "for i in range(20,len(list_of_fake),20):\n",
    "    print(\" OR \".join(list_of_fake[j:i]))\n",
    "    j = i\n",
    "\" OR \".join() #search the output by outpu string"
   ]
  },
  {
   "cell_type": "code",
   "execution_count": null,
   "metadata": {},
   "outputs": [],
   "source": []
  }
 ],
 "metadata": {
  "kernelspec": {
   "display_name": "Python 3",
   "language": "python",
   "name": "python3"
  },
  "language_info": {
   "codemirror_mode": {
    "name": "ipython",
    "version": 3
   },
   "file_extension": ".py",
   "mimetype": "text/x-python",
   "name": "python",
   "nbconvert_exporter": "python",
   "pygments_lexer": "ipython3",
   "version": "3.6.5"
  }
 },
 "nbformat": 4,
 "nbformat_minor": 2
}
